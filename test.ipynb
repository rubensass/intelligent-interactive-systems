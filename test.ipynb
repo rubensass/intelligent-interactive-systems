{
 "cells": [
  {
   "cell_type": "code",
   "execution_count": 1,
   "metadata": {},
   "outputs": [
    {
     "name": "stdout",
     "output_type": "stream",
     "text": [
      "hello\n"
     ]
    }
   ],
   "source": [
    "print(\"hello\")"
   ]
  },
  {
   "cell_type": "code",
   "execution_count": 7,
   "metadata": {},
   "outputs": [],
   "source": [
    "import json\n",
    "import os\n",
    "\n",
    "list = [1, 2, 3, 4, 5]\n",
    "\n",
    "file_path = \"data.json\"\n",
    "\n",
    "for i in list:\n",
    "    if os.path.exists(file_path) and os.path.getsize(file_path) > 0:\n",
    "        with open(file_path, 'r') as json_file:\n",
    "            my_list = json.load(json_file)\n",
    "    else:\n",
    "        my_list = []\n",
    "\n",
    "    my_list.append(i)\n",
    "\n",
    "    with open(file_path, 'w') as json_file:\n",
    "        json.dump(my_list, json_file)\n"
   ]
  },
  {
   "cell_type": "code",
   "execution_count": 1,
   "metadata": {},
   "outputs": [],
   "source": [
    "import json\n",
    "\n",
    "# Your data containing French sentences\n",
    "data = {\n",
    "    \"sentence\": \"L'été est magnifique.\"\n",
    "}\n",
    "\n",
    "# Writing the data to a JSON file with UTF-8 encoding and ensure_ascii=False\n",
    "with open('data.json', 'w', encoding='utf-8') as f:\n",
    "    json.dump(data, f, ensure_ascii=False)\n"
   ]
  }
 ],
 "metadata": {
  "kernelspec": {
   "display_name": "Python 3",
   "language": "python",
   "name": "python3"
  },
  "language_info": {
   "codemirror_mode": {
    "name": "ipython",
    "version": 3
   },
   "file_extension": ".py",
   "mimetype": "text/x-python",
   "name": "python",
   "nbconvert_exporter": "python",
   "pygments_lexer": "ipython3",
   "version": "3.11.4"
  }
 },
 "nbformat": 4,
 "nbformat_minor": 2
}
